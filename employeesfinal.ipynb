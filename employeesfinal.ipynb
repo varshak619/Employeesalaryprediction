{
  "nbformat": 4,
  "nbformat_minor": 0,
  "metadata": {
    "colab": {
      "provenance": []
    },
    "kernelspec": {
      "name": "python3",
      "display_name": "Python 3"
    },
    "language_info": {
      "name": "python"
    }
  },
  "cells": [
    {
      "cell_type": "code",
      "source": [
        "# Step 1: Import libraries\n",
        "import pandas as pd\n",
        "import matplotlib.pyplot as plt\n",
        "from sklearn.preprocessing import LabelEncoder, StandardScaler\n",
        "from sklearn.model_selection import train_test_split\n",
        "from sklearn.pipeline import Pipeline\n",
        "from sklearn.metrics import accuracy_score, classification_report\n",
        "from sklearn.linear_model import LogisticRegression\n",
        "from sklearn.ensemble import RandomForestClassifier, GradientBoostingClassifier\n",
        "from sklearn.neighbors import KNeighborsClassifier\n",
        "from sklearn.svm import SVC\n",
        "import joblib"
      ],
      "metadata": {
        "id": "mYkDZ84GQZCA"
      },
      "execution_count": 1,
      "outputs": []
    },
    {
      "cell_type": "code",
      "source": [
        "# Step 2: Load dataset\n",
        "data = pd.read_csv(\"/content/adult 3.csv\")\n",
        "print(\"Initial shape:\", data.shape)"
      ],
      "metadata": {
        "colab": {
          "base_uri": "https://localhost:8080/"
        },
        "id": "-CgP_j-sQccd",
        "outputId": "8a48c92a-61e1-4a03-adf2-a752e9212698"
      },
      "execution_count": 2,
      "outputs": [
        {
          "output_type": "stream",
          "name": "stdout",
          "text": [
            "Initial shape: (48842, 15)\n"
          ]
        }
      ]
    },
    {
      "cell_type": "code",
      "source": [
        "# Step 3: Handle missing values (replace '?' with 'Others')\n",
        "data['workclass'].replace('?', 'Others', inplace=True)\n",
        "data['occupation'].replace('?', 'Others', inplace=True)"
      ],
      "metadata": {
        "colab": {
          "base_uri": "https://localhost:8080/"
        },
        "id": "f1Tm7jDnQidR",
        "outputId": "b9062b2e-a7b2-49e5-ba3f-1c95fd8c0524"
      },
      "execution_count": 3,
      "outputs": [
        {
          "output_type": "stream",
          "name": "stderr",
          "text": [
            "/tmp/ipython-input-3-4106213938.py:2: FutureWarning: A value is trying to be set on a copy of a DataFrame or Series through chained assignment using an inplace method.\n",
            "The behavior will change in pandas 3.0. This inplace method will never work because the intermediate object on which we are setting values always behaves as a copy.\n",
            "\n",
            "For example, when doing 'df[col].method(value, inplace=True)', try using 'df.method({col: value}, inplace=True)' or df[col] = df[col].method(value) instead, to perform the operation inplace on the original object.\n",
            "\n",
            "\n",
            "  data['workclass'].replace('?', 'Others', inplace=True)\n",
            "/tmp/ipython-input-3-4106213938.py:3: FutureWarning: A value is trying to be set on a copy of a DataFrame or Series through chained assignment using an inplace method.\n",
            "The behavior will change in pandas 3.0. This inplace method will never work because the intermediate object on which we are setting values always behaves as a copy.\n",
            "\n",
            "For example, when doing 'df[col].method(value, inplace=True)', try using 'df.method({col: value}, inplace=True)' or df[col] = df[col].method(value) instead, to perform the operation inplace on the original object.\n",
            "\n",
            "\n",
            "  data['occupation'].replace('?', 'Others', inplace=True)\n"
          ]
        }
      ]
    },
    {
      "cell_type": "code",
      "source": [
        "# Step 4: Drop rare or irrelevant categories\n",
        "data = data[~data['workclass'].isin(['Without-pay', 'Never-worked'])]\n"
      ],
      "metadata": {
        "id": "nhrQX9uNQkti"
      },
      "execution_count": 4,
      "outputs": []
    },
    {
      "cell_type": "code",
      "source": [
        "# Step 5: Display category counts (optional)\n",
        "print(\"Workclass counts:\\n\", data['workclass'].value_counts())\n",
        "print(\"Occupation counts:\\n\", data['occupation'].value_counts())\n",
        "print(\"Relationship counts:\\n\", data['relationship'].value_counts())\n",
        "print(\"Gender counts:\\n\", data['gender'].value_counts())"
      ],
      "metadata": {
        "colab": {
          "base_uri": "https://localhost:8080/"
        },
        "id": "RmWjtb8GQpae",
        "outputId": "ec7fd2c9-6d60-4985-e132-ebb516d52d60"
      },
      "execution_count": 5,
      "outputs": [
        {
          "output_type": "stream",
          "name": "stdout",
          "text": [
            "Workclass counts:\n",
            " workclass\n",
            "Private             33906\n",
            "Self-emp-not-inc     3862\n",
            "Local-gov            3136\n",
            "Others               2799\n",
            "State-gov            1981\n",
            "Self-emp-inc         1695\n",
            "Federal-gov          1432\n",
            "Name: count, dtype: int64\n",
            "Occupation counts:\n",
            " occupation\n",
            "Prof-specialty       6172\n",
            "Craft-repair         6111\n",
            "Exec-managerial      6085\n",
            "Adm-clerical         5608\n",
            "Sales                5503\n",
            "Other-service        4921\n",
            "Machine-op-inspct    3020\n",
            "Others               2799\n",
            "Transport-moving     2354\n",
            "Handlers-cleaners    2070\n",
            "Farming-fishing      1482\n",
            "Tech-support         1446\n",
            "Protective-serv       983\n",
            "Priv-house-serv       242\n",
            "Armed-Forces           15\n",
            "Name: count, dtype: int64\n",
            "Relationship counts:\n",
            " relationship\n",
            "Husband           19708\n",
            "Not-in-family     12582\n",
            "Own-child          7566\n",
            "Unmarried          5123\n",
            "Wife               2327\n",
            "Other-relative     1505\n",
            "Name: count, dtype: int64\n",
            "Gender counts:\n",
            " gender\n",
            "Male      32629\n",
            "Female    16182\n",
            "Name: count, dtype: int64\n"
          ]
        }
      ]
    },
    {
      "cell_type": "code",
      "source": [
        "# Step 6: Outlier detection and handling using boxplots (optional visualization)\n",
        "plt.boxplot(data['age'])\n",
        "plt.title(\"Boxplot of Age\")\n",
        "plt.show()"
      ],
      "metadata": {
        "colab": {
          "base_uri": "https://localhost:8080/",
          "height": 452
        },
        "id": "OK4Ma0LCQsJl",
        "outputId": "758b923b-2358-42a9-b997-bf46efa81bb9"
      },
      "execution_count": 6,
      "outputs": [
        {
          "output_type": "display_data",
          "data": {
            "text/plain": [
              "<Figure size 640x480 with 1 Axes>"
            ],
            "image/png": "[encoded data removed]"
          },
          "metadata": {}
        }
      ]
    },
    {
      "cell_type": "code",
      "source": [
        "# Remove age outliers\n",
        "data = data[(data['age'] >= 17) & (data['age'] <= 75)]"
      ],
      "metadata": {
        "id": "ZqGW0JbZQwDE"
      },
      "execution_count": 7,
      "outputs": []
    },
    {
      "cell_type": "code",
      "source": [
        "# Educational-num outlier removal\n",
        "plt.boxplot(data['educational-num'])\n",
        "plt.title(\"Boxplot of Educational-Num\")\n",
        "plt.show()"
      ],
      "metadata": {
        "colab": {
          "base_uri": "https://localhost:8080/",
          "height": 452
        },
        "id": "RNoKhBHdQz5M",
        "outputId": "56ad3124-9cc3-4fa2-efba-fc72acf1b219"
      },
      "execution_count": 8,
      "outputs": [
        {
          "output_type": "display_data",
          "data": {
            "text/plain": [
              "<Figure size 640x480 with 1 Axes>"
            ],
            "image/png": "[encoded data removed]"
          },
          "metadata": {}
        }
      ]
    },
    {
      "cell_type": "code",
      "source": [
        "data = data[(data['educational-num'] >= 5) & (data['educational-num'] <= 16)]"
      ],
      "metadata": {
        "id": "psQ8UE19Q38X"
      },
      "execution_count": 9,
      "outputs": []
    },
    {
      "cell_type": "code",
      "source": [
        "# Capital-gain and hours-per-week (just visualization)\n",
        "plt.boxplot(data['capital-gain'])\n",
        "plt.title(\"Boxplot of Capital Gain\")\n",
        "plt.show()"
      ],
      "metadata": {
        "colab": {
          "base_uri": "https://localhost:8080/",
          "height": 452
        },
        "id": "I_VVn7YvQ8hD",
        "outputId": "095147ff-68a2-45a1-d5bc-894ea5bece60"
      },
      "execution_count": 10,
      "outputs": [
        {
          "output_type": "display_data",
          "data": {
            "text/plain": [
              "<Figure size 640x480 with 1 Axes>"
            ],
            "image/png": "[encoded data removed]"
          },
          "metadata": {}
        }
      ]
    },
    {
      "cell_type": "code",
      "source": [
        "plt.boxplot(data['hours-per-week'])\n",
        "plt.title(\"Boxplot of Hours per Week\")\n",
        "plt.show()"
      ],
      "metadata": {
        "colab": {
          "base_uri": "https://localhost:8080/",
          "height": 452
        },
        "id": "Us0cTNrwRAhW",
        "outputId": "2e9ee6fc-71a9-4ae9-e01a-584654d54262"
      },
      "execution_count": 11,
      "outputs": [
        {
          "output_type": "display_data",
          "data": {
            "text/plain": [
              "<Figure size 640x480 with 1 Axes>"
            ],
            "image/png": "[encoded data removed]"
          },
          "metadata": {}
        }
      ]
    },
    {
      "cell_type": "code",
      "source": [
        "# Step 7: Drop 'education' column (because 'educational-num' is numerical version)\n",
        "data.drop(columns=['education'], inplace=True)"
      ],
      "metadata": {
        "id": "BRLJ3JcMRFJ9"
      },
      "execution_count": 12,
      "outputs": []
    },
    {
      "cell_type": "code",
      "source": [
        "# Step 8: Label Encoding of categorical variables\n",
        "encoder = LabelEncoder()\n",
        "categorical_cols = ['workclass', 'marital-status', 'occupation', 'relationship', 'race', 'gender', 'native-country']"
      ],
      "metadata": {
        "id": "iPXg77gzRKlF"
      },
      "execution_count": 13,
      "outputs": []
    },
    {
      "cell_type": "code",
      "source": [
        "for col in categorical_cols:\n",
        "    data[col] = encoder.fit_transform(data[col])"
      ],
      "metadata": {
        "id": "48QXUoxVRPBe"
      },
      "execution_count": 14,
      "outputs": []
    },
    {
      "cell_type": "code",
      "source": [
        "# Step 9: Define features and target\n",
        "X = data.drop(columns=['income'])\n",
        "y = data['income']"
      ],
      "metadata": {
        "id": "gD9pnITqRSeD"
      },
      "execution_count": 15,
      "outputs": []
    },
    {
      "cell_type": "code",
      "source": [
        "# ✅ Save feature names for later use in Streamlit\n",
        "joblib.dump(X.columns.tolist(), \"model_features.pkl\")"
      ],
      "metadata": {
        "colab": {
          "base_uri": "https://localhost:8080/"
        },
        "id": "kNvfq8p4vNcU",
        "outputId": "52fe8cd8-971f-47c8-8f70-f2a123892a8e"
      },
      "execution_count": 16,
      "outputs": [
        {
          "output_type": "execute_result",
          "data": {
            "text/plain": [
              "['model_features.pkl']"
            ]
          },
          "metadata": {},
          "execution_count": 16
        }
      ]
    },
    {
      "cell_type": "code",
      "source": [
        "# Step 10: Train-test split\n",
        "X_train, X_test, y_train, y_test = train_test_split(X, y, test_size=0.2, random_state=42)"
      ],
      "metadata": {
        "id": "wrCGPxO4RWsV"
      },
      "execution_count": 17,
      "outputs": []
    },
    {
      "cell_type": "code",
      "source": [
        "# Step 11: Define models to compare\n",
        "models = {\n",
        "    \"LogisticRegression\": LogisticRegression(max_iter=1000),\n",
        "    \"RandomForest\": RandomForestClassifier(),\n",
        "    \"KNN\": KNeighborsClassifier(),\n",
        "    \"SVM\": SVC(probability=True),\n",
        "    \"GradientBoosting\": GradientBoostingClassifier()\n",
        "}\n",
        "\n",
        "# Step 12: Train and evaluate models using pipeline\n",
        "results = {}\n",
        "\n",
        "for name, model in models.items():\n",
        "    pipe = Pipeline([\n",
        "        ('scaler', StandardScaler()),\n",
        "        ('model', model)\n",
        "    ])\n",
        "    pipe.fit(X_train, y_train)\n",
        "    y_pred = pipe.predict(X_test)\n",
        "    acc = accuracy_score(y_test, y_pred)\n",
        "    results[name] = acc\n",
        "    print(f\"\\n{name} Accuracy: {acc:.4f}\")\n",
        "    print(classification_report(y_test, y_pred))"
      ],
      "metadata": {
        "colab": {
          "base_uri": "https://localhost:8080/"
        },
        "id": "mZ6uidpvRa6b",
        "outputId": "0909aa90-5774-4439-8eb4-f95c36d0e720"
      },
      "execution_count": 18,
      "outputs": [
        {
          "output_type": "stream",
          "name": "stdout",
          "text": [
            "\n",
            "LogisticRegression Accuracy: 0.8149\n",
            "              precision    recall  f1-score   support\n",
            "\n",
            "       <=50K       0.84      0.93      0.88      7010\n",
            "        >50K       0.69      0.46      0.55      2334\n",
            "\n",
            "    accuracy                           0.81      9344\n",
            "   macro avg       0.77      0.70      0.72      9344\n",
            "weighted avg       0.80      0.81      0.80      9344\n",
            "\n",
            "\n",
            "RandomForest Accuracy: 0.8510\n",
            "              precision    recall  f1-score   support\n",
            "\n",
            "       <=50K       0.88      0.93      0.90      7010\n",
            "        >50K       0.74      0.62      0.68      2334\n",
            "\n",
            "    accuracy                           0.85      9344\n",
            "   macro avg       0.81      0.77      0.79      9344\n",
            "weighted avg       0.85      0.85      0.85      9344\n",
            "\n",
            "\n",
            "KNN Accuracy: 0.8245\n",
            "              precision    recall  f1-score   support\n",
            "\n",
            "       <=50K       0.87      0.90      0.88      7010\n",
            "        >50K       0.67      0.60      0.63      2334\n",
            "\n",
            "    accuracy                           0.82      9344\n",
            "   macro avg       0.77      0.75      0.76      9344\n",
            "weighted avg       0.82      0.82      0.82      9344\n",
            "\n",
            "\n",
            "SVM Accuracy: 0.8396\n",
            "              precision    recall  f1-score   support\n",
            "\n",
            "       <=50K       0.86      0.94      0.90      7010\n",
            "        >50K       0.75      0.54      0.63      2334\n",
            "\n",
            "    accuracy                           0.84      9344\n",
            "   macro avg       0.80      0.74      0.76      9344\n",
            "weighted avg       0.83      0.84      0.83      9344\n",
            "\n",
            "\n",
            "GradientBoosting Accuracy: 0.8571\n",
            "              precision    recall  f1-score   support\n",
            "\n",
            "       <=50K       0.88      0.94      0.91      7010\n",
            "        >50K       0.78      0.60      0.68      2334\n",
            "\n",
            "    accuracy                           0.86      9344\n",
            "   macro avg       0.83      0.77      0.79      9344\n",
            "weighted avg       0.85      0.86      0.85      9344\n",
            "\n"
          ]
        }
      ]
    },
    {
      "cell_type": "code",
      "source": [
        "# Step 13: Visualize model comparison\n",
        "plt.bar(results.keys(), results.values(), color='skyblue')\n",
        "plt.ylabel('Accuracy Score')\n",
        "plt.title('Model Comparison')\n",
        "plt.xticks(rotation=45)\n",
        "plt.grid(True)\n",
        "plt.tight_layout()\n",
        "plt.show()"
      ],
      "metadata": {
        "colab": {
          "base_uri": "https://localhost:8080/",
          "height": 487
        },
        "id": "xBYyHDbrRn-t",
        "outputId": "918982c4-ceda-49e4-f53f-7d8aeb22be35"
      },
      "execution_count": 19,
      "outputs": [
        {
          "output_type": "display_data",
          "data": {
            "text/plain": [
              "<Figure size 640x480 with 1 Axes>"
            ],
            "image/png": "[encoded data removed]"
          },
          "metadata": {}
        }
      ]
    },
    {
      "cell_type": "code",
      "source": [
        "# Step 14: Save the best-performing model\n",
        "best_model_name = max(results, key=results.get)\n",
        "final_model = models[best_model_name]\n",
        "final_model.fit(X_train, y_train)\n",
        "joblib.dump(final_model, \"best_model.pkl\")\n",
        "\n",
        "print(f\"\\n✅ Best model: {best_model_name} with accuracy {results[best_model_name]:.4f}\")\n",
        "print(\"✅ Model saved as 'best_model.pkl'\")"
      ],
      "metadata": {
        "colab": {
          "base_uri": "https://localhost:8080/"
        },
        "id": "cPwbQONOSJiE",
        "outputId": "d663899a-00c6-4e51-f621-8d4de4c5ee72"
      },
      "execution_count": 20,
      "outputs": [
        {
          "output_type": "stream",
          "name": "stdout",
          "text": [
            "\n",
            "✅ Best model: GradientBoosting with accuracy 0.8571\n",
            "✅ Model saved as 'best_model.pkl'\n"
          ]
        }
      ]
    },
    {
      "cell_type": "code",
      "source": [
        "# Step 15: Predict on first 5 test samples using the saved pipeline\n",
        "loaded_pipeline = joblib.load(\"best_model.pkl\")\n",
        "\n",
        "# Predict directly using pipeline (includes scaler)\n",
        "predictions = loaded_pipeline.predict(X_test[:10])\n",
        "\n",
        "# Display predictions\n",
        "print(\"\\n🧠 Predicted Salary Classes for first 10 test samples:\")\n",
        "for i, label in enumerate(predictions, 1):\n",
        "    print(f\"Sample {i}: {label}\")\n"
      ],
      "metadata": {
        "colab": {
          "base_uri": "https://localhost:8080/"
        },
        "id": "8p2BwwHSUJm-",
        "outputId": "b79179b0-21dd-46cb-da96-0d3f495c5b82"
      },
      "execution_count": 21,
      "outputs": [
        {
          "output_type": "stream",
          "name": "stdout",
          "text": [
            "\n",
            "🧠 Predicted Salary Classes for first 10 test samples:\n",
            "Sample 1: <=50K\n",
            "Sample 2: <=50K\n",
            "Sample 3: <=50K\n",
            "Sample 4: <=50K\n",
            "Sample 5: <=50K\n",
            "Sample 6: >50K\n",
            "Sample 7: >50K\n",
            "Sample 8: <=50K\n",
            "Sample 9: <=50K\n",
            "Sample 10: <=50K\n"
          ]
        }
      ]
    },
    {
      "cell_type": "code",
      "source": [
        "!pip install -q streamlit pyngrok\n"
      ],
      "metadata": {
        "id": "kYClnz35sNgn"
      },
      "execution_count": 22,
      "outputs": []
    },
    {
      "cell_type": "code",
      "source": [
        "%%writefile app.py\n",
        "import streamlit as st\n",
        "import pandas as pd\n",
        "import joblib\n",
        "\n",
        "# Load trained model and feature names\n",
        "model = joblib.load(\"best_model.pkl\")\n",
        "feature_names = joblib.load(\"model_features.pkl\")\n",
        "\n",
        "# Page configuration\n",
        "st.set_page_config(page_title=\"💼 Employee Salary Predictor\", layout=\"centered\")\n",
        "st.title(\"💼 Employee Salary Prediction App\")\n",
        "\n",
        "# Create input fields for each feature\n",
        "st.header(\"📝 Enter Employee Details:\")\n",
        "\n",
        "# Dictionary to collect user inputs\n",
        "user_input = {}\n",
        "\n",
        "# Define input options for categorical fields\n",
        "workclass_options = ['Federal-gov', 'Local-gov', 'Private', 'Self-emp-inc', 'Self-emp-not-inc', 'State-gov', 'Others']\n",
        "marital_status_options = ['Divorced', 'Married-AF-spouse', 'Married-civ-spouse', 'Married-spouse-absent', 'Never-married', 'Separated', 'Widowed']\n",
        "occupation_options = ['Adm-clerical', 'Craft-repair', 'Exec-managerial', 'Farming-fishing', 'Handlers-cleaners',\n",
        "                      'Machine-op-inspct', 'Other-service', 'Priv-house-serv', 'Prof-specialty',\n",
        "                      'Protective-serv', 'Sales', 'Tech-support', 'Transport-moving', 'Others']\n",
        "relationship_options = ['Husband', 'Not-in-family', 'Other-relative', 'Own-child', 'Unmarried', 'Wife']\n",
        "race_options = ['Amer-Indian-Eskimo', 'Asian-Pac-Islander', 'Black', 'Other', 'White']\n",
        "gender_options = ['Female', 'Male']\n",
        "native_country_options = ['United-States', 'Mexico', 'Philippines', 'Germany', 'Canada', 'Others']\n",
        "\n",
        "# Input widgets\n",
        "user_input['age'] = st.number_input(\"Age\", min_value=17, max_value=90, value=30)\n",
        "user_input['workclass'] = st.selectbox(\"Workclass\", workclass_options)\n",
        "user_input['fnlwgt'] = st.number_input(\"Final Weight (fnlwgt)\", min_value=10000, max_value=1000000, value=150000)\n",
        "user_input['marital-status'] = st.selectbox(\"Marital Status\", marital_status_options)\n",
        "user_input['occupation'] = st.selectbox(\"Occupation\", occupation_options)\n",
        "user_input['relationship'] = st.selectbox(\"Relationship\", relationship_options)\n",
        "user_input['race'] = st.selectbox(\"Race\", race_options)\n",
        "user_input['gender'] = st.selectbox(\"Gender\", gender_options)\n",
        "user_input['capital-gain'] = st.number_input(\"Capital Gain\", min_value=0, max_value=100000, value=0)\n",
        "user_input['capital-loss'] = st.number_input(\"Capital Loss\", min_value=0, max_value=5000, value=0)\n",
        "user_input['hours-per-week'] = st.slider(\"Hours per Week\", min_value=1, max_value=99, value=40)\n",
        "user_input['native-country'] = st.selectbox(\"Native Country\", native_country_options)\n",
        "user_input['educational-num'] = st.slider(\"Educational Number\", min_value=1, max_value=20, value=10)\n",
        "\n",
        "# When user clicks predict\n",
        "if st.button(\"🔮 Predict Salary Class\"):\n",
        "    input_df = pd.DataFrame([user_input])\n",
        "\n",
        "    # Encode categorical variables (same encoding order as training)\n",
        "    label_enc_cols = ['workclass', 'marital-status', 'occupation', 'relationship', 'race', 'gender', 'native-country']\n",
        "    for col in label_enc_cols:\n",
        "        input_df[col] = pd.factorize(input_df[col])[0]  # Fast encoding for consistency\n",
        "\n",
        "    # Reorder columns to match training\n",
        "    input_df = input_df.reindex(columns=feature_names)\n",
        "\n",
        "    # Predict\n",
        "    prediction = model.predict(input_df)[0]\n",
        "\n",
        "    # Show result\n",
        "    st.success(f\"🧾 Predicted Salary Class: **{prediction}**\")\n",
        "\n"
      ],
      "metadata": {
        "id": "p9vUeIYEy-x0",
        "outputId": "2b49fd2c-4654-4e08-9907-d844d7bfc21f",
        "colab": {
          "base_uri": "https://localhost:8080/"
        }
      },
      "execution_count": 23,
      "outputs": [
        {
          "output_type": "stream",
          "name": "stdout",
          "text": [
            "Overwriting app.py\n"
          ]
        }
      ]
    },
    {
      "cell_type": "code",
      "source": [
        "from pyngrok import ngrok\n",
        "ngrok.set_auth_token(\"30DubTquMZMtCs8dnpQgxl08eiw_5XfvdsxzDRX691LWZT7fD\")  # Replace with your actual token\n",
        "public_url = ngrok.connect(8501)\n",
        "print(public_url)\n",
        "!streamlit run app.py &"
      ],
      "metadata": {
        "id": "ss-rdKwazQgQ",
        "outputId": "3d275602-dd3f-4da0-dee1-df41444e6be4",
        "colab": {
          "base_uri": "https://localhost:8080/"
        }
      },
      "execution_count": null,
      "outputs": [
        {
          "output_type": "stream",
          "name": "stdout",
          "text": [
            "NgrokTunnel: \"https://fce6a2214b69.ngrok-free.app\" -> \"http://localhost:8501\"\n",
            "\n",
            "Collecting usage statistics. To deactivate, set browser.gatherUsageStats to false.\n",
            "\u001b[0m\n",
            "\u001b[0m\n",
            "\u001b[34m\u001b[1m  You can now view your Streamlit app in your browser.\u001b[0m\n",
            "\u001b[0m\n",
            "\u001b[34m  Local URL: \u001b[0m\u001b[1mhttp://localhost:8501\u001b[0m\n",
            "\u001b[34m  Network URL: \u001b[0m\u001b[1mhttp://172.28.0.12:8501\u001b[0m\n",
            "\u001b[34m  External URL: \u001b[0m\u001b[1mhttp://34.132.118.107:8501\u001b[0m\n",
            "\u001b[0m\n"
          ]
        }
      ]
    }
  ]
}